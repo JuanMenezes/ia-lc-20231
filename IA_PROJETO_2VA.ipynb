{
  "cells": [
    {
      "cell_type": "code",
      "execution_count": 8,
      "metadata": {
        "colab": {
          "base_uri": "https://localhost:8080/"
        },
        "id": "grPEjEpX3QDX",
        "outputId": "58bf6ceb-f118-4c8c-c5f8-54f0a1e3082a"
      },
      "outputs": [
        {
          "name": "stdout",
          "output_type": "stream",
          "text": [
            "\n",
            "\u001b[1m[\u001b[0m\u001b[34;49mnotice\u001b[0m\u001b[1;39;49m]\u001b[0m\u001b[39;49m A new release of pip is available: \u001b[0m\u001b[31;49m23.1.2\u001b[0m\u001b[39;49m -> \u001b[0m\u001b[32;49m23.2.1\u001b[0m\n",
            "\u001b[1m[\u001b[0m\u001b[34;49mnotice\u001b[0m\u001b[1;39;49m]\u001b[0m\u001b[39;49m To update, run: \u001b[0m\u001b[32;49mpip install --upgrade pip\u001b[0m\n",
            "Defaulting to user installation because normal site-packages is not writeable\n",
            "Requirement already satisfied: graphviz==0.10 in /home/juan/.local/lib/python3.11/site-packages (0.10)\n",
            "\n",
            "\u001b[1m[\u001b[0m\u001b[34;49mnotice\u001b[0m\u001b[1;39;49m]\u001b[0m\u001b[39;49m A new release of pip is available: \u001b[0m\u001b[31;49m23.1.2\u001b[0m\u001b[39;49m -> \u001b[0m\u001b[32;49m23.2.1\u001b[0m\n",
            "\u001b[1m[\u001b[0m\u001b[34;49mnotice\u001b[0m\u001b[1;39;49m]\u001b[0m\u001b[39;49m To update, run: \u001b[0m\u001b[32;49mpip install --upgrade pip\u001b[0m\n",
            "zsh:1: command not found: apt-get\n",
            "Defaulting to user installation because normal site-packages is not writeable\n",
            "Requirement already satisfied: pandas in /home/juan/.local/lib/python3.11/site-packages (2.1.0)\n",
            "Requirement already satisfied: numpy>=1.23.2 in /home/juan/.local/lib/python3.11/site-packages (from pandas) (1.25.2)\n",
            "Requirement already satisfied: python-dateutil>=2.8.2 in /home/juan/.local/lib/python3.11/site-packages (from pandas) (2.8.2)\n",
            "Requirement already satisfied: pytz>=2020.1 in /home/juan/.local/lib/python3.11/site-packages (from pandas) (2023.3)\n",
            "Requirement already satisfied: tzdata>=2022.1 in /home/juan/.local/lib/python3.11/site-packages (from pandas) (2023.3)\n",
            "Requirement already satisfied: six>=1.5 in /home/juan/.local/lib/python3.11/site-packages (from python-dateutil>=2.8.2->pandas) (1.16.0)\n",
            "\n",
            "\u001b[1m[\u001b[0m\u001b[34;49mnotice\u001b[0m\u001b[1;39;49m]\u001b[0m\u001b[39;49m A new release of pip is available: \u001b[0m\u001b[31;49m23.1.2\u001b[0m\u001b[39;49m -> \u001b[0m\u001b[32;49m23.2.1\u001b[0m\n",
            "\u001b[1m[\u001b[0m\u001b[34;49mnotice\u001b[0m\u001b[1;39;49m]\u001b[0m\u001b[39;49m To update, run: \u001b[0m\u001b[32;49mpip install --upgrade pip\u001b[0m\n",
            "Defaulting to user installation because normal site-packages is not writeable\n",
            "Collecting scikit-learn\n",
            "  Downloading scikit_learn-1.3.0-cp311-cp311-manylinux_2_17_x86_64.manylinux2014_x86_64.whl (10.9 MB)\n",
            "\u001b[2K     \u001b[90m━━━━━━━━━━━━━━━━━━━━━━━━━━━━━━━━━━━━━━━━\u001b[0m \u001b[32m10.9/10.9 MB\u001b[0m \u001b[31m29.3 MB/s\u001b[0m eta \u001b[36m0:00:00\u001b[0m00:01\u001b[0m0:01\u001b[0m\n",
            "\u001b[?25hRequirement already satisfied: numpy>=1.17.3 in /home/juan/.local/lib/python3.11/site-packages (from scikit-learn) (1.25.2)\n",
            "Collecting scipy>=1.5.0 (from scikit-learn)\n",
            "  Downloading scipy-1.11.2-cp311-cp311-manylinux_2_17_x86_64.manylinux2014_x86_64.whl (36.3 MB)\n",
            "\u001b[2K     \u001b[90m━━━━━━━━━━━━━━━━━━━━━━━━━━━━━━━━━━━━━━━━\u001b[0m \u001b[32m36.3/36.3 MB\u001b[0m \u001b[31m12.4 MB/s\u001b[0m eta \u001b[36m0:00:00\u001b[0m00:01\u001b[0m00:01\u001b[0m\n",
            "\u001b[?25hCollecting joblib>=1.1.1 (from scikit-learn)\n",
            "  Downloading joblib-1.3.2-py3-none-any.whl (302 kB)\n",
            "\u001b[2K     \u001b[90m━━━━━━━━━━━━━━━━━━━━━━━━━━━━━━━━━━━━━━━\u001b[0m \u001b[32m302.2/302.2 kB\u001b[0m \u001b[31m6.8 MB/s\u001b[0m eta \u001b[36m0:00:00\u001b[0ma \u001b[36m0:00:01\u001b[0m\n",
            "\u001b[?25hCollecting threadpoolctl>=2.0.0 (from scikit-learn)\n",
            "  Downloading threadpoolctl-3.2.0-py3-none-any.whl (15 kB)\n",
            "Installing collected packages: threadpoolctl, scipy, joblib, scikit-learn\n",
            "Successfully installed joblib-1.3.2 scikit-learn-1.3.0 scipy-1.11.2 threadpoolctl-3.2.0\n",
            "\n",
            "\u001b[1m[\u001b[0m\u001b[34;49mnotice\u001b[0m\u001b[1;39;49m]\u001b[0m\u001b[39;49m A new release of pip is available: \u001b[0m\u001b[31;49m23.1.2\u001b[0m\u001b[39;49m -> \u001b[0m\u001b[32;49m23.2.1\u001b[0m\n",
            "\u001b[1m[\u001b[0m\u001b[34;49mnotice\u001b[0m\u001b[1;39;49m]\u001b[0m\u001b[39;49m To update, run: \u001b[0m\u001b[32;49mpip install --upgrade pip\u001b[0m\n"
          ]
        }
      ],
      "source": [
        "!pip install pywaffle -q\n",
        "!pip install graphviz==0.10\n",
        "!apt-get install graphviz\n",
        "!pip install pandas\n",
        "!pip install scikit-learn"
      ]
    },
    {
      "attachments": {},
      "cell_type": "markdown",
      "metadata": {
        "id": "czBU7CUrzB8e"
      },
      "source": [
        "# Análise Exploratoria dos Dados"
      ]
    },
    {
      "attachments": {},
      "cell_type": "markdown",
      "metadata": {
        "id": "SbBI1XEH518I"
      },
      "source": [
        "### **Importando bibliotecas e datasets dos anos de 2017 e 2018**"
      ]
    },
    {
      "cell_type": "code",
      "execution_count": 4,
      "metadata": {
        "id": "Ur2-c-Bo6jYK"
      },
      "outputs": [
        {
          "name": "stderr",
          "output_type": "stream",
          "text": [
            "/tmp/ipykernel_5970/3472922150.py:6: DtypeWarning: Columns (61,83) have mixed types. Specify dtype option on import or set low_memory=False.\n",
            "  alu2017 = pd.read_csv('https://raw.githubusercontent.com/JuanMenezes/ia-lc-20231/main/2017/alunosCenso2017.csv', sep =';')\n"
          ]
        },
        {
          "ename": "HTTPError",
          "evalue": "HTTP Error 503: between bytes timeout",
          "output_type": "error",
          "traceback": [
            "\u001b[0;31m---------------------------------------------------------------------------\u001b[0m",
            "\u001b[0;31mHTTPError\u001b[0m                                 Traceback (most recent call last)",
            "Cell \u001b[0;32mIn[4], line 15\u001b[0m\n\u001b[1;32m     11\u001b[0m tabelao2017 \u001b[39m=\u001b[39m pd\u001b[39m.\u001b[39mmerge(prest2017, escola2017, left_on\u001b[39m=\u001b[39m\u001b[39m\"\u001b[39m\u001b[39mCódigo da Escola\u001b[39m\u001b[39m\"\u001b[39m, right_on\u001b[39m=\u001b[39m\u001b[39m\"\u001b[39m\u001b[39mCO_ENTIDADE\u001b[39m\u001b[39m\"\u001b[39m)\n\u001b[1;32m     13\u001b[0m \u001b[39m#2018\u001b[39;00m\n\u001b[0;32m---> 15\u001b[0m alu2018 \u001b[39m=\u001b[39m pd\u001b[39m.\u001b[39;49mread_csv(\u001b[39m'\u001b[39;49m\u001b[39mhttps://raw.githubusercontent.com/JuanMenezes/ia-lc-20231/main/2018/alunosCenso2018.csv\u001b[39;49m\u001b[39m'\u001b[39;49m, sep \u001b[39m=\u001b[39;49m\u001b[39m'\u001b[39;49m\u001b[39m;\u001b[39;49m\u001b[39m'\u001b[39;49m)\n\u001b[1;32m     16\u001b[0m escola2018 \u001b[39m=\u001b[39m pd\u001b[39m.\u001b[39mread_csv(\u001b[39m'\u001b[39m\u001b[39mhttps://raw.githubusercontent.com/JuanMenezes/ia-lc-20231/main/2018/escolasCenso2018.csv\u001b[39m\u001b[39m'\u001b[39m, sep \u001b[39m=\u001b[39m \u001b[39m'\u001b[39m\u001b[39m;\u001b[39m\u001b[39m'\u001b[39m)\n\u001b[1;32m     17\u001b[0m prest2018 \u001b[39m=\u001b[39m pd\u001b[39m.\u001b[39mread_csv(\u001b[39m'\u001b[39m\u001b[39mhttps://raw.githubusercontent.com/JuanMenezes/ia-lc-20231/main/2018/prestContas2018.csv\u001b[39m\u001b[39m'\u001b[39m, sep \u001b[39m=\u001b[39m\u001b[39m'\u001b[39m\u001b[39m,\u001b[39m\u001b[39m'\u001b[39m)\n",
            "File \u001b[0;32m~/.local/lib/python3.11/site-packages/pandas/io/parsers/readers.py:948\u001b[0m, in \u001b[0;36mread_csv\u001b[0;34m(filepath_or_buffer, sep, delimiter, header, names, index_col, usecols, dtype, engine, converters, true_values, false_values, skipinitialspace, skiprows, skipfooter, nrows, na_values, keep_default_na, na_filter, verbose, skip_blank_lines, parse_dates, infer_datetime_format, keep_date_col, date_parser, date_format, dayfirst, cache_dates, iterator, chunksize, compression, thousands, decimal, lineterminator, quotechar, quoting, doublequote, escapechar, comment, encoding, encoding_errors, dialect, on_bad_lines, delim_whitespace, low_memory, memory_map, float_precision, storage_options, dtype_backend)\u001b[0m\n\u001b[1;32m    935\u001b[0m kwds_defaults \u001b[39m=\u001b[39m _refine_defaults_read(\n\u001b[1;32m    936\u001b[0m     dialect,\n\u001b[1;32m    937\u001b[0m     delimiter,\n\u001b[0;32m   (...)\u001b[0m\n\u001b[1;32m    944\u001b[0m     dtype_backend\u001b[39m=\u001b[39mdtype_backend,\n\u001b[1;32m    945\u001b[0m )\n\u001b[1;32m    946\u001b[0m kwds\u001b[39m.\u001b[39mupdate(kwds_defaults)\n\u001b[0;32m--> 948\u001b[0m \u001b[39mreturn\u001b[39;00m _read(filepath_or_buffer, kwds)\n",
            "File \u001b[0;32m~/.local/lib/python3.11/site-packages/pandas/io/parsers/readers.py:611\u001b[0m, in \u001b[0;36m_read\u001b[0;34m(filepath_or_buffer, kwds)\u001b[0m\n\u001b[1;32m    608\u001b[0m _validate_names(kwds\u001b[39m.\u001b[39mget(\u001b[39m\"\u001b[39m\u001b[39mnames\u001b[39m\u001b[39m\"\u001b[39m, \u001b[39mNone\u001b[39;00m))\n\u001b[1;32m    610\u001b[0m \u001b[39m# Create the parser.\u001b[39;00m\n\u001b[0;32m--> 611\u001b[0m parser \u001b[39m=\u001b[39m TextFileReader(filepath_or_buffer, \u001b[39m*\u001b[39;49m\u001b[39m*\u001b[39;49mkwds)\n\u001b[1;32m    613\u001b[0m \u001b[39mif\u001b[39;00m chunksize \u001b[39mor\u001b[39;00m iterator:\n\u001b[1;32m    614\u001b[0m     \u001b[39mreturn\u001b[39;00m parser\n",
            "File \u001b[0;32m~/.local/lib/python3.11/site-packages/pandas/io/parsers/readers.py:1448\u001b[0m, in \u001b[0;36mTextFileReader.__init__\u001b[0;34m(self, f, engine, **kwds)\u001b[0m\n\u001b[1;32m   1445\u001b[0m     \u001b[39mself\u001b[39m\u001b[39m.\u001b[39moptions[\u001b[39m\"\u001b[39m\u001b[39mhas_index_names\u001b[39m\u001b[39m\"\u001b[39m] \u001b[39m=\u001b[39m kwds[\u001b[39m\"\u001b[39m\u001b[39mhas_index_names\u001b[39m\u001b[39m\"\u001b[39m]\n\u001b[1;32m   1447\u001b[0m \u001b[39mself\u001b[39m\u001b[39m.\u001b[39mhandles: IOHandles \u001b[39m|\u001b[39m \u001b[39mNone\u001b[39;00m \u001b[39m=\u001b[39m \u001b[39mNone\u001b[39;00m\n\u001b[0;32m-> 1448\u001b[0m \u001b[39mself\u001b[39m\u001b[39m.\u001b[39m_engine \u001b[39m=\u001b[39m \u001b[39mself\u001b[39;49m\u001b[39m.\u001b[39;49m_make_engine(f, \u001b[39mself\u001b[39;49m\u001b[39m.\u001b[39;49mengine)\n",
            "File \u001b[0;32m~/.local/lib/python3.11/site-packages/pandas/io/parsers/readers.py:1705\u001b[0m, in \u001b[0;36mTextFileReader._make_engine\u001b[0;34m(self, f, engine)\u001b[0m\n\u001b[1;32m   1703\u001b[0m     \u001b[39mif\u001b[39;00m \u001b[39m\"\u001b[39m\u001b[39mb\u001b[39m\u001b[39m\"\u001b[39m \u001b[39mnot\u001b[39;00m \u001b[39min\u001b[39;00m mode:\n\u001b[1;32m   1704\u001b[0m         mode \u001b[39m+\u001b[39m\u001b[39m=\u001b[39m \u001b[39m\"\u001b[39m\u001b[39mb\u001b[39m\u001b[39m\"\u001b[39m\n\u001b[0;32m-> 1705\u001b[0m \u001b[39mself\u001b[39m\u001b[39m.\u001b[39mhandles \u001b[39m=\u001b[39m get_handle(\n\u001b[1;32m   1706\u001b[0m     f,\n\u001b[1;32m   1707\u001b[0m     mode,\n\u001b[1;32m   1708\u001b[0m     encoding\u001b[39m=\u001b[39;49m\u001b[39mself\u001b[39;49m\u001b[39m.\u001b[39;49moptions\u001b[39m.\u001b[39;49mget(\u001b[39m\"\u001b[39;49m\u001b[39mencoding\u001b[39;49m\u001b[39m\"\u001b[39;49m, \u001b[39mNone\u001b[39;49;00m),\n\u001b[1;32m   1709\u001b[0m     compression\u001b[39m=\u001b[39;49m\u001b[39mself\u001b[39;49m\u001b[39m.\u001b[39;49moptions\u001b[39m.\u001b[39;49mget(\u001b[39m\"\u001b[39;49m\u001b[39mcompression\u001b[39;49m\u001b[39m\"\u001b[39;49m, \u001b[39mNone\u001b[39;49;00m),\n\u001b[1;32m   1710\u001b[0m     memory_map\u001b[39m=\u001b[39;49m\u001b[39mself\u001b[39;49m\u001b[39m.\u001b[39;49moptions\u001b[39m.\u001b[39;49mget(\u001b[39m\"\u001b[39;49m\u001b[39mmemory_map\u001b[39;49m\u001b[39m\"\u001b[39;49m, \u001b[39mFalse\u001b[39;49;00m),\n\u001b[1;32m   1711\u001b[0m     is_text\u001b[39m=\u001b[39;49mis_text,\n\u001b[1;32m   1712\u001b[0m     errors\u001b[39m=\u001b[39;49m\u001b[39mself\u001b[39;49m\u001b[39m.\u001b[39;49moptions\u001b[39m.\u001b[39;49mget(\u001b[39m\"\u001b[39;49m\u001b[39mencoding_errors\u001b[39;49m\u001b[39m\"\u001b[39;49m, \u001b[39m\"\u001b[39;49m\u001b[39mstrict\u001b[39;49m\u001b[39m\"\u001b[39;49m),\n\u001b[1;32m   1713\u001b[0m     storage_options\u001b[39m=\u001b[39;49m\u001b[39mself\u001b[39;49m\u001b[39m.\u001b[39;49moptions\u001b[39m.\u001b[39;49mget(\u001b[39m\"\u001b[39;49m\u001b[39mstorage_options\u001b[39;49m\u001b[39m\"\u001b[39;49m, \u001b[39mNone\u001b[39;49;00m),\n\u001b[1;32m   1714\u001b[0m )\n\u001b[1;32m   1715\u001b[0m \u001b[39massert\u001b[39;00m \u001b[39mself\u001b[39m\u001b[39m.\u001b[39mhandles \u001b[39mis\u001b[39;00m \u001b[39mnot\u001b[39;00m \u001b[39mNone\u001b[39;00m\n\u001b[1;32m   1716\u001b[0m f \u001b[39m=\u001b[39m \u001b[39mself\u001b[39m\u001b[39m.\u001b[39mhandles\u001b[39m.\u001b[39mhandle\n",
            "File \u001b[0;32m~/.local/lib/python3.11/site-packages/pandas/io/common.py:718\u001b[0m, in \u001b[0;36mget_handle\u001b[0;34m(path_or_buf, mode, encoding, compression, memory_map, is_text, errors, storage_options)\u001b[0m\n\u001b[1;32m    715\u001b[0m     codecs\u001b[39m.\u001b[39mlookup_error(errors)\n\u001b[1;32m    717\u001b[0m \u001b[39m# open URLs\u001b[39;00m\n\u001b[0;32m--> 718\u001b[0m ioargs \u001b[39m=\u001b[39m _get_filepath_or_buffer(\n\u001b[1;32m    719\u001b[0m     path_or_buf,\n\u001b[1;32m    720\u001b[0m     encoding\u001b[39m=\u001b[39;49mencoding,\n\u001b[1;32m    721\u001b[0m     compression\u001b[39m=\u001b[39;49mcompression,\n\u001b[1;32m    722\u001b[0m     mode\u001b[39m=\u001b[39;49mmode,\n\u001b[1;32m    723\u001b[0m     storage_options\u001b[39m=\u001b[39;49mstorage_options,\n\u001b[1;32m    724\u001b[0m )\n\u001b[1;32m    726\u001b[0m handle \u001b[39m=\u001b[39m ioargs\u001b[39m.\u001b[39mfilepath_or_buffer\n\u001b[1;32m    727\u001b[0m handles: \u001b[39mlist\u001b[39m[BaseBuffer]\n",
            "File \u001b[0;32m~/.local/lib/python3.11/site-packages/pandas/io/common.py:372\u001b[0m, in \u001b[0;36m_get_filepath_or_buffer\u001b[0;34m(filepath_or_buffer, encoding, compression, mode, storage_options)\u001b[0m\n\u001b[1;32m    370\u001b[0m \u001b[39m# assuming storage_options is to be interpreted as headers\u001b[39;00m\n\u001b[1;32m    371\u001b[0m req_info \u001b[39m=\u001b[39m urllib\u001b[39m.\u001b[39mrequest\u001b[39m.\u001b[39mRequest(filepath_or_buffer, headers\u001b[39m=\u001b[39mstorage_options)\n\u001b[0;32m--> 372\u001b[0m \u001b[39mwith\u001b[39;00m urlopen(req_info) \u001b[39mas\u001b[39;00m req:\n\u001b[1;32m    373\u001b[0m     content_encoding \u001b[39m=\u001b[39m req\u001b[39m.\u001b[39mheaders\u001b[39m.\u001b[39mget(\u001b[39m\"\u001b[39m\u001b[39mContent-Encoding\u001b[39m\u001b[39m\"\u001b[39m, \u001b[39mNone\u001b[39;00m)\n\u001b[1;32m    374\u001b[0m     \u001b[39mif\u001b[39;00m content_encoding \u001b[39m==\u001b[39m \u001b[39m\"\u001b[39m\u001b[39mgzip\u001b[39m\u001b[39m\"\u001b[39m:\n\u001b[1;32m    375\u001b[0m         \u001b[39m# Override compression based on Content-Encoding header\u001b[39;00m\n",
            "File \u001b[0;32m~/.local/lib/python3.11/site-packages/pandas/io/common.py:274\u001b[0m, in \u001b[0;36murlopen\u001b[0;34m(*args, **kwargs)\u001b[0m\n\u001b[1;32m    268\u001b[0m \u001b[39m\u001b[39m\u001b[39m\"\"\"\u001b[39;00m\n\u001b[1;32m    269\u001b[0m \u001b[39mLazy-import wrapper for stdlib urlopen, as that imports a big chunk of\u001b[39;00m\n\u001b[1;32m    270\u001b[0m \u001b[39mthe stdlib.\u001b[39;00m\n\u001b[1;32m    271\u001b[0m \u001b[39m\"\"\"\u001b[39;00m\n\u001b[1;32m    272\u001b[0m \u001b[39mimport\u001b[39;00m \u001b[39murllib\u001b[39;00m\u001b[39m.\u001b[39;00m\u001b[39mrequest\u001b[39;00m\n\u001b[0;32m--> 274\u001b[0m \u001b[39mreturn\u001b[39;00m urllib\u001b[39m.\u001b[39;49mrequest\u001b[39m.\u001b[39;49murlopen(\u001b[39m*\u001b[39;49margs, \u001b[39m*\u001b[39;49m\u001b[39m*\u001b[39;49mkwargs)\n",
            "File \u001b[0;32m/usr/lib/python3.11/urllib/request.py:216\u001b[0m, in \u001b[0;36murlopen\u001b[0;34m(url, data, timeout, cafile, capath, cadefault, context)\u001b[0m\n\u001b[1;32m    214\u001b[0m \u001b[39melse\u001b[39;00m:\n\u001b[1;32m    215\u001b[0m     opener \u001b[39m=\u001b[39m _opener\n\u001b[0;32m--> 216\u001b[0m \u001b[39mreturn\u001b[39;00m opener\u001b[39m.\u001b[39;49mopen(url, data, timeout)\n",
            "File \u001b[0;32m/usr/lib/python3.11/urllib/request.py:525\u001b[0m, in \u001b[0;36mOpenerDirector.open\u001b[0;34m(self, fullurl, data, timeout)\u001b[0m\n\u001b[1;32m    523\u001b[0m \u001b[39mfor\u001b[39;00m processor \u001b[39min\u001b[39;00m \u001b[39mself\u001b[39m\u001b[39m.\u001b[39mprocess_response\u001b[39m.\u001b[39mget(protocol, []):\n\u001b[1;32m    524\u001b[0m     meth \u001b[39m=\u001b[39m \u001b[39mgetattr\u001b[39m(processor, meth_name)\n\u001b[0;32m--> 525\u001b[0m     response \u001b[39m=\u001b[39m meth(req, response)\n\u001b[1;32m    527\u001b[0m \u001b[39mreturn\u001b[39;00m response\n",
            "File \u001b[0;32m/usr/lib/python3.11/urllib/request.py:634\u001b[0m, in \u001b[0;36mHTTPErrorProcessor.http_response\u001b[0;34m(self, request, response)\u001b[0m\n\u001b[1;32m    631\u001b[0m \u001b[39m# According to RFC 2616, \"2xx\" code indicates that the client's\u001b[39;00m\n\u001b[1;32m    632\u001b[0m \u001b[39m# request was successfully received, understood, and accepted.\u001b[39;00m\n\u001b[1;32m    633\u001b[0m \u001b[39mif\u001b[39;00m \u001b[39mnot\u001b[39;00m (\u001b[39m200\u001b[39m \u001b[39m<\u001b[39m\u001b[39m=\u001b[39m code \u001b[39m<\u001b[39m \u001b[39m300\u001b[39m):\n\u001b[0;32m--> 634\u001b[0m     response \u001b[39m=\u001b[39m \u001b[39mself\u001b[39;49m\u001b[39m.\u001b[39;49mparent\u001b[39m.\u001b[39;49merror(\n\u001b[1;32m    635\u001b[0m         \u001b[39m'\u001b[39;49m\u001b[39mhttp\u001b[39;49m\u001b[39m'\u001b[39;49m, request, response, code, msg, hdrs)\n\u001b[1;32m    637\u001b[0m \u001b[39mreturn\u001b[39;00m response\n",
            "File \u001b[0;32m/usr/lib/python3.11/urllib/request.py:563\u001b[0m, in \u001b[0;36mOpenerDirector.error\u001b[0;34m(self, proto, *args)\u001b[0m\n\u001b[1;32m    561\u001b[0m \u001b[39mif\u001b[39;00m http_err:\n\u001b[1;32m    562\u001b[0m     args \u001b[39m=\u001b[39m (\u001b[39mdict\u001b[39m, \u001b[39m'\u001b[39m\u001b[39mdefault\u001b[39m\u001b[39m'\u001b[39m, \u001b[39m'\u001b[39m\u001b[39mhttp_error_default\u001b[39m\u001b[39m'\u001b[39m) \u001b[39m+\u001b[39m orig_args\n\u001b[0;32m--> 563\u001b[0m     \u001b[39mreturn\u001b[39;00m \u001b[39mself\u001b[39;49m\u001b[39m.\u001b[39;49m_call_chain(\u001b[39m*\u001b[39;49margs)\n",
            "File \u001b[0;32m/usr/lib/python3.11/urllib/request.py:496\u001b[0m, in \u001b[0;36mOpenerDirector._call_chain\u001b[0;34m(self, chain, kind, meth_name, *args)\u001b[0m\n\u001b[1;32m    494\u001b[0m \u001b[39mfor\u001b[39;00m handler \u001b[39min\u001b[39;00m handlers:\n\u001b[1;32m    495\u001b[0m     func \u001b[39m=\u001b[39m \u001b[39mgetattr\u001b[39m(handler, meth_name)\n\u001b[0;32m--> 496\u001b[0m     result \u001b[39m=\u001b[39m func(\u001b[39m*\u001b[39;49margs)\n\u001b[1;32m    497\u001b[0m     \u001b[39mif\u001b[39;00m result \u001b[39mis\u001b[39;00m \u001b[39mnot\u001b[39;00m \u001b[39mNone\u001b[39;00m:\n\u001b[1;32m    498\u001b[0m         \u001b[39mreturn\u001b[39;00m result\n",
            "File \u001b[0;32m/usr/lib/python3.11/urllib/request.py:643\u001b[0m, in \u001b[0;36mHTTPDefaultErrorHandler.http_error_default\u001b[0;34m(self, req, fp, code, msg, hdrs)\u001b[0m\n\u001b[1;32m    642\u001b[0m \u001b[39mdef\u001b[39;00m \u001b[39mhttp_error_default\u001b[39m(\u001b[39mself\u001b[39m, req, fp, code, msg, hdrs):\n\u001b[0;32m--> 643\u001b[0m     \u001b[39mraise\u001b[39;00m HTTPError(req\u001b[39m.\u001b[39mfull_url, code, msg, hdrs, fp)\n",
            "\u001b[0;31mHTTPError\u001b[0m: HTTP Error 503: between bytes timeout"
          ]
        }
      ],
      "source": [
        "import numpy as np\n",
        "import pandas as pd\n",
        "import matplotlib.pyplot as plt\n",
        "\n",
        "#2017\n",
        "alu2017 = pd.read_csv('https://raw.githubusercontent.com/JuanMenezes/ia-lc-20231/main/2017/alunosCenso2017.csv', sep =';')\n",
        "escola2017 = pd.read_csv('https://raw.githubusercontent.com/JuanMenezes/ia-lc-20231/main/2017/escolasCenso2017.csv', sep = ';')\n",
        "prest2017 = pd.read_csv('https://raw.githubusercontent.com/JuanMenezes/ia-lc-20231/main/2017/prestContas2017.csv', sep =';')\n",
        "#adicionando o csv de situacaoAlunoXsituacaoEscola\n",
        "situAlu2017 = pd.read_csv('https://raw.githubusercontent.com/JuanMenezes/ia-lc-20231/main/2017/situAlunos2017.csv', sep=';')\n",
        "tabelao2017 = pd.merge(prest2017, escola2017, left_on=\"Código da Escola\", right_on=\"CO_ENTIDADE\")\n",
        "\n",
        "#2018\n",
        "\n",
        "alu2018 = pd.read_csv('https://raw.githubusercontent.com/JuanMenezes/ia-lc-20231/main/2018/alunosCenso2018.csv', sep =';')\n",
        "escola2018 = pd.read_csv('https://raw.githubusercontent.com/JuanMenezes/ia-lc-20231/main/2018/escolasCenso2018.csv', sep = ';')\n",
        "prest2018 = pd.read_csv('https://raw.githubusercontent.com/JuanMenezes/ia-lc-20231/main/2018/prestContas2018.csv', sep =',')\n",
        "#adicionando o csv de situacaoAlunoXsituacaoEscola\n",
        "situAlu2018 = pd.read_csv('https://raw.githubusercontent.com/JuanMenezes/ia-lc-20231/main/2018/situAlunos2018.csv', sep=';')\n",
        "tabelao2018 = pd.merge(prest2018, escola2018, left_on=\"Código da Escola\", right_on=\"CO_ENTIDADE\")\n",
        "\n",
        "display(tabelao2017)\n",
        "\n"
      ]
    },
    {
      "attachments": {},
      "cell_type": "markdown",
      "metadata": {
        "id": "hEaET7gN-yc-"
      },
      "source": [
        "### *Valor de investimento* recebido pelas escolas publicas do recife por entidade executora, verificando alguma correlação inicial entre a unidade executora e o ranking da escola"
      ]
    },
    {
      "cell_type": "code",
      "execution_count": null,
      "metadata": {
        "id": "UcfdyX6mFUrv"
      },
      "outputs": [],
      "source": [
        "df = pd.DataFrame({'Entidade Executora': prest2018['Entidade Executora - EEx'], 'Valor': prest2018['Valor Total Previsto']})\n",
        "#df['valor'] = df['valor'].str.replace('.', '')\n",
        "#df['valor'] = df['valor'].str.replace(',', '.').astype(float)\n"
      ]
    },
    {
      "cell_type": "code",
      "execution_count": null,
      "metadata": {
        "id": "J3DqRMNBMW2z"
      },
      "outputs": [],
      "source": [
        "df.groupby('Entidade Executora')['Valor'].sum().plot.bar(x='Entidade_Executora', y='valor', rot=0)"
      ]
    },
    {
      "cell_type": "code",
      "execution_count": null,
      "metadata": {
        "id": "bscx9n90WeZ5"
      },
      "outputs": [],
      "source": [
        "df2 = pd.DataFrame({'Entidade_Executora': prest2018['Entidade Executora - EEx'], 'valor': prest2018['Valor Total Previsto']})\n",
        "df2.groupby('Entidade_Executora')['valor'].sum().plot.bar(x='Entidade_Executora', y='valor', rot=0)\n"
      ]
    },
    {
      "attachments": {},
      "cell_type": "markdown",
      "metadata": {
        "id": "-a747lC1EqPt"
      },
      "source": [
        "###Sendo assim percebe-se que a maior Entidade Executora é SEE ( Secretaria de Educação e Esportes ) entretanto a PREF MUN DE RECIFE repassa esse valor para mais escolas"
      ]
    },
    {
      "cell_type": "code",
      "execution_count": null,
      "metadata": {
        "id": "0VssF_zoR6cY"
      },
      "outputs": [],
      "source": [
        "df.groupby('Entidade Executora').count()"
      ]
    },
    {
      "attachments": {},
      "cell_type": "markdown",
      "metadata": {
        "id": "irUG5JQ2KtbN"
      },
      "source": [
        "## Status das Escolas x Investimento"
      ]
    },
    {
      "cell_type": "code",
      "execution_count": null,
      "metadata": {
        "id": "hBU5fpFdELKe"
      },
      "outputs": [],
      "source": [
        "df = pd.DataFrame({'TP_SITUACAO_FUNCIONAMENTO': tabelao2017['TP_SITUACAO_FUNCIONAMENTO'], 'valor': tabelao2017['Valor Total Previsto']})\n",
        "#df['valor'] = df['valor'].str.replace('.', '')\n",
        "#df['valor'] = df['valor'].str.replace(',', '.').astype(float)\n",
        "\n",
        "plt.style.use('ggplot')\n",
        "ax = df.plot(kind='bar', title='Situação de funcionamento x valores recebidos')\n",
        "plt.xticks(range(1, 6))\n"
      ]
    },
    {
      "cell_type": "code",
      "execution_count": null,
      "metadata": {
        "id": "qzLgdZ1Fvd_O"
      },
      "outputs": [],
      "source": [
        "!pip install pywaffle -q\n",
        "import numpy as np\n",
        "import pandas as pd\n",
        "import matplotlib.pyplot as plt\n",
        "from pywaffle import Waffle\n",
        "\n",
        "\n",
        "dados = alu2017.TP_COR_RACA.value_counts().to_dict()\n",
        "display(dados)\n",
        "dados['não declarada'] = dados.pop(0)\n",
        "dados['branca'] = dados.pop(1)\n",
        "dados[' Preta'] = dados.pop(2)\n",
        "dados['Parda'] = dados.pop(3)\n",
        "dados['Amarela'] = dados.pop(4)\n",
        "dados['Indígena'] = dados.pop(5)\n",
        "display(dados)\n",
        "fig = plt.figure (\n",
        "    FigureClass = Waffle,\n",
        "    rows= 50,\n",
        "    columns = 50,\n",
        "   colors= (\"#232066\", \"#983D3D\",\"#DCB732\",\"#87DC32\",\"#DC329E\", \"#DC3232\"),\n",
        "    legend={'loc': 'upper left', 'bbox_to_anchor': (1, 1)},\n",
        "   values = dados, icons='child', icon_size=5,\n",
        "    icon_legend=True)\n",
        "fig.set_tight_layout(False)"
      ]
    },
    {
      "cell_type": "code",
      "execution_count": null,
      "metadata": {
        "id": "gMDLt7FvK2HC"
      },
      "outputs": [],
      "source": [
        "\n",
        "tabe= tabelao2018[['TP_SITUACAO_FUNCIONAMENTO', 'Valor Total Previsto']].dropna()\n",
        "#tabe['Valor Total Previsto'] = tabe['Valor Total Previsto'].str.replace('.', '')\n",
        "#tabe['Valor Total Previsto'] = tabe['Valor Total Previsto'].str.replace(',', '.').astype(float)\n",
        "aux = tabe.groupby('TP_SITUACAO_FUNCIONAMENTO')['Valor Total Previsto'].sum()\n",
        "\n",
        "display(aux)\n",
        "\n",
        "final= pd.DataFrame(aux)\n",
        "final= final.transpose()\n",
        "para= final.iloc[:,1]\n",
        "atv = final.iloc[:,0]\n",
        "\n",
        "\n",
        "\n",
        "#criando o gráfico\n",
        "plt.figure(figsize=(10,7))\n",
        "para= plt.bar(x='Paralisada', height= para, width= 0.15)\n",
        "atv= plt.bar(x= 'Atividade ', height=atv , width= 0.15)\n",
        "plt.xlabel('Status escolas')\n",
        "plt.ylabel('Valor investido')\n",
        "plt.title('Status x Investimento 2017')\n",
        "plt.grid(axis='y', linestyle='-')\n",
        "plt.show()\n",
        "\n"
      ]
    },
    {
      "cell_type": "code",
      "execution_count": null,
      "metadata": {
        "id": "HKXMslFM1Un4"
      },
      "outputs": [],
      "source": [
        "\n",
        "import numpy as np\n",
        "import pandas as pd\n",
        "import matplotlib.pyplot as plt\n",
        "\n",
        "#O tratamento de dados do CSV abaixo foi feito a partir de uma outra ferramenta de banco de dados por ser mais simples visto que o HTTP estava dando timeout, porém todos os campos estão presentes nos dados carregados anteriormente\n",
        "aprov2017 = pd.read_csv('https://raw.githubusercontent.com/JuanMenezes/ia-lc-20231/main/2017/tratadoAprovacao2017.csv', sep = ',')\n",
        "aprov2018 = pd.read_csv('https://raw.githubusercontent.com/JuanMenezes/ia-lc-20231/main/2018/tratadoAprovacao2018.csv', sep = ',')\n",
        "aprov2018.head()\n",
        "tabe= aprov2018[['Aprovados', 'modens']].dropna()\n",
        "aux = tabe.groupby('modens')['Aprovados'].sum()\n",
        "display(aux)\n",
        "\n",
        "final= pd.DataFrame(aux)\n",
        "final= final.transpose()\n",
        "para= final.iloc[:,1]\n",
        "atv = final.iloc[:,0]\n",
        "#criando o gráfico\n",
        "plt.figure(figsize=(10,7))\n",
        "para= plt.bar(x='EAD', height= para, width= 0.15)\n",
        "atv= plt.bar(x= 'Presencial', height=atv , width= 0.15)\n",
        "plt.xlabel('MODALIDADE')\n",
        "plt.ylabel('APROVADOS')\n",
        "plt.title('APROVADOS x MODALIDADE DE ENSINO')\n",
        "plt.grid(axis='y', linestyle='-')\n",
        "plt.show()"
      ]
    },
    {
      "attachments": {},
      "cell_type": "markdown",
      "metadata": {
        "id": "e5E8by6kzSCv"
      },
      "source": [
        "### Média do investimento recebido por cada escola pelo programa PDDE\n"
      ]
    },
    {
      "cell_type": "code",
      "execution_count": null,
      "metadata": {
        "id": "Q6Tu590ArPFU"
      },
      "outputs": [],
      "source": [
        "media= tabelao2017['Valor Total Previsto'].dropna()\n",
        "testa= pd.DataFrame(media)\n",
        "#testa['Valor Total Previsto'] = testa['Valor Total Previsto'].str.replace('.', '')\n",
        "#testa['Valor Total Previsto'] = testa['Valor Total Previsto'].str.replace(',', '.').astype(float)\n",
        "mediaPDDE2017= testa['Valor Total Previsto'].mean()\n",
        "print('R$ {:.2f}'.format(mediaPDDE2017))"
      ]
    },
    {
      "cell_type": "code",
      "execution_count": null,
      "metadata": {
        "id": "ZP_9WizfYJ6s"
      },
      "outputs": [],
      "source": [
        "media2= tabelao2018['Valor Total Previsto'].dropna()\n",
        "testa2= pd.DataFrame(media2)\n",
        "#testa['Valor Total Previsto'] = testa['Valor Total Previsto'].str.replace('.', '')\n",
        "#testa['Valor Total Previsto'] = testa['Valor Total Previsto'].str.replace(',', '.').astype(float)\n",
        "mediaPDDE2018= testa2['Valor Total Previsto'].mean()\n",
        "print('R$ {:.2f}'.format(mediaPDDE2018))"
      ]
    },
    {
      "attachments": {},
      "cell_type": "markdown",
      "metadata": {
        "id": "dxZBiXKwz9Pu"
      },
      "source": [
        "### Relação entra o valor recebido e infraestrutura.\n",
        "\n",
        "Aqui construimos um gráfico usando variáveis de infraestrutura(biblioteca, internet, quadra de esportes, refeitório) e utilizamos uma média aritmética dos valores previstos pelo PDDE para dividir as escolas em dois gráficos, as que recebem um valor acima da média e as que recebem um valor abaixo."
      ]
    },
    {
      "cell_type": "code",
      "execution_count": null,
      "metadata": {
        "id": "UD346K_V1uiW"
      },
      "outputs": [],
      "source": [
        "infra= tabelao2018[['Valor Total Previsto', 'CO_ENTIDADE', 'IN_QUADRA_ESPORTES', 'IN_BIBLIOTECA_SALA_LEITURA', 'IN_REFEITORIO', 'IN_INTERNET']]\n",
        "infradata= pd.DataFrame(infra)\n",
        "infradata.head()"
      ]
    },
    {
      "attachments": {},
      "cell_type": "markdown",
      "metadata": {
        "id": "3y8poWE3s3TG"
      },
      "source": [
        "## Tabela de aprovação 2017 e 2018\n",
        "\n",
        "Pegamos o número de alunos aprovados e reprovados de cada escola e calculamos a taxa de aprovação. Em 'IsAprovado' retornamos 1 se a escola possuir mais de 90% de aprovação ou 0 se possuir menos.\n"
      ]
    },
    {
      "cell_type": "code",
      "execution_count": 6,
      "metadata": {
        "id": "_BzZr1nhs9w1"
      },
      "outputs": [
        {
          "ename": "ModuleNotFoundError",
          "evalue": "No module named 'sklearn'",
          "output_type": "error",
          "traceback": [
            "\u001b[0;31m---------------------------------------------------------------------------\u001b[0m",
            "\u001b[0;31mModuleNotFoundError\u001b[0m                       Traceback (most recent call last)",
            "Cell \u001b[0;32mIn[6], line 1\u001b[0m\n\u001b[0;32m----> 1\u001b[0m \u001b[39mfrom\u001b[39;00m \u001b[39msklearn\u001b[39;00m\u001b[39m.\u001b[39;00m\u001b[39mtree\u001b[39;00m \u001b[39mimport\u001b[39;00m DecisionTreeClassifier,export_graphviz\n\u001b[1;32m      2\u001b[0m \u001b[39mfrom\u001b[39;00m \u001b[39msklearn\u001b[39;00m \u001b[39mimport\u001b[39;00m metrics\n\u001b[1;32m      3\u001b[0m aprov2017[\u001b[39m'\u001b[39m\u001b[39mTotalAlunos\u001b[39m\u001b[39m'\u001b[39m]\u001b[39m=\u001b[39m aprov2017[\u001b[39m'\u001b[39m\u001b[39mAprovados\u001b[39m\u001b[39m'\u001b[39m] \u001b[39m+\u001b[39m aprov2017[\u001b[39m'\u001b[39m\u001b[39mReprovados\u001b[39m\u001b[39m'\u001b[39m]\n",
            "\u001b[0;31mModuleNotFoundError\u001b[0m: No module named 'sklearn'"
          ]
        }
      ],
      "source": [
        "from sklearn.tree import DecisionTreeClassifier,export_graphviz\n",
        "from sklearn import metrics\n",
        "aprov2017['TotalAlunos']= aprov2017['Aprovados'] + aprov2017['Reprovados']\n",
        "aprov2017['isAprovado'] = np.where(aprov2017['Aprovados']/aprov2017['TotalAlunos'] > 0.9, 1, 0)\n",
        "aprov2017.head()\n",
        "aprov2018['TotalAlunos']= aprov2018['Aprovados'] + aprov2018['Reprovados']\n",
        "aprov2018['isAprovado'] = np.where(aprov2018['Aprovados']/aprov2018['TotalAlunos'] > 0.9, 1, 0)\n",
        "aprov2018.head()\n",
        "\n",
        "\n"
      ]
    },
    {
      "attachments": {},
      "cell_type": "markdown",
      "metadata": {
        "id": "HKmwDFArCprp"
      },
      "source": [
        "### Junção com variáveis de infraestrutura"
      ]
    },
    {
      "cell_type": "code",
      "execution_count": null,
      "metadata": {
        "id": "TovPROETCzIV"
      },
      "outputs": [],
      "source": [
        "censo2017=escola2017\n",
        "infra2017= censo2017[[ 'CO_ENTIDADE', 'IN_QUADRA_ESPORTES', 'IN_BIBLIOTECA_SALA_LEITURA', 'IN_REFEITORIO', 'IN_INTERNET']]\n",
        "finalaprov2017= pd.merge(aprov2017,infra2017,left_on='codEscola', right_on='CO_ENTIDADE')\n",
        "display(finalaprov2017)\n",
        "\n",
        "censo2018=escola2018\n",
        "infra2018= censo2018[[ 'CO_ENTIDADE', 'IN_QUADRA_ESPORTES', 'IN_BIBLIOTECA_SALA_LEITURA', 'IN_REFEITORIO', 'IN_INTERNET']]\n",
        "finalaprov2018= pd.merge(aprov2018,infra2018,left_on='codEscola', right_on='CO_ENTIDADE')\n",
        "display(finalaprov2018)"
      ]
    },
    {
      "attachments": {},
      "cell_type": "markdown",
      "metadata": {
        "id": "8I2GfdrCTQcY"
      },
      "source": [
        "### Legendando os bairros para que eles possam ser utilizados no nosso algortimo\n"
      ]
    },
    {
      "cell_type": "code",
      "execution_count": null,
      "metadata": {
        "id": "TuTIJ-KcTP_Y"
      },
      "outputs": [],
      "source": [
        "\n",
        "trocar = {\n",
        "    'COHAB' : 1,\n",
        "    'IBURA' : 2,\n",
        "    'VARZEA': 3,\n",
        "    'IMBIRIBEIRA': 4,\n",
        "    'JORDAO': 5,\n",
        "    'SANTO AMARO': 6,\n",
        "    'NOVA DESCOBERTA': 7,\n",
        "    'IPUTINGA': 8,\n",
        "    'AGUA FRIA': 9,\n",
        "    'BOA VIAGEM': 10,\n",
        "    'VASCO DA GAMA': 11,\n",
        "    'MACAXEIRA': 12,\n",
        "    'SAN MARTIN': 13,\n",
        "    'PASSARINHO': 14,\n",
        "    'TORROES': 15,\n",
        "    'PINA': 16,\n",
        "    'AREIAS': 17,\n",
        "    'CASA AMARELA': 18,\n",
        "    'BEBERIBE': 19,\n",
        "    'CAMPO GRANDE': 20,\n",
        "    'LINHA DO TIRO': 21,\n",
        "    'PRADO': 22,\n",
        "    'IPSEP': 23,\n",
        "    'FUNDAO': 24,\n",
        "    'ILHA JOANA BEZERRA': 25,\n",
        "    'AFOGADOS': 26,\n",
        "    'TORRE': 27,\n",
        "    'ALTO JOSE BONIFACIO': 28,\n",
        "    'DOIS UNIDOS': 29,\n",
        "    'BARRO': 30,\n",
        "    'ENCRUZILHADA': 31,\n",
        "    'CORREGO DO JENIPAPO': 32,\n",
        "    'COQUEIRAL': 33,\n",
        "    'CORDEIRO': 34,\n",
        "    'ENGENHO DO MEIO': 35,\n",
        "    'BREJO DA GUABIRABA': 36,\n",
        "    'ALTO SANTA TEREZINHA': 37,\n",
        "    'ESTANCIA': 38,\n",
        "    'SANCHO': 39,\n",
        "    'CAMPINA DO BARRETO': 40,\n",
        "    'MUSTARDINHA': 41,\n",
        "    'TEJIPIO': 42,\n",
        "    'ILHA DO LEITE': 43,\n",
        "    'DERBY': 44,\n",
        "    'ILHA DO RETIRO': 45,\n",
        "    'MADALENA': 46,\n",
        "    'MANGABEIRA': 47,\n",
        "    'CAXANGA': 48,\n",
        "    'PEIXINHOS': 49,\n",
        "    'CAJUEIRO': 50,\n",
        "    'ESPINHEIRO': 51,\n",
        "    'TORREAO': 52,\n",
        "    'TAMARINEIRA': 53,\n",
        "    'COELHOS': 54,\n",
        "    'BOA VISTA': 55,\n",
        "    'GUABIRABA': 56,\n",
        "    'RECIFE': 57,\n",
        "    'MORRO DA CONCEICAO': 58,\n",
        "    'JAQUEIRA': 59,\n",
        "    'ALTO JOSE DO PINHO': 60,\n",
        "    'ARRUDA': 61,\n",
        "    'BRASILIA TEIMOSA': 62,\n",
        "    'DOIS IRMAOS': 63,\n",
        "    'BREJO DE BEBERIBE ': 64\n",
        "}\n",
        "finalaprov2017['bairro_legenda'] = finalaprov2017['bairro'].map(trocar)\n",
        "finalaprov2018['bairro_legenda'] = finalaprov2018['bairro'].map(trocar)\n",
        "finalaprov2017.head()\n",
        "#removendo onde tem NaN na tabela\n",
        "#finalaprov2017.dropna(subset = [\"bairro_legenda\"], inplace=True)\n",
        "#entretanto a acuracia foi pior, na hora de rodar o modelo ele está jogando como float"
      ]
    },
    {
      "attachments": {},
      "cell_type": "markdown",
      "metadata": {
        "id": "E2ZxXIto05BX"
      },
      "source": [
        "##Dipersão Bairros x Aprovados"
      ]
    },
    {
      "cell_type": "code",
      "execution_count": 9,
      "metadata": {
        "id": "68N242uq1BnN"
      },
      "outputs": [
        {
          "name": "stdout",
          "output_type": "stream",
          "text": [
            "Defaulting to user installation because normal site-packages is not writeable\n",
            "Collecting seaborn\n",
            "  Downloading seaborn-0.12.2-py3-none-any.whl (293 kB)\n",
            "\u001b[2K     \u001b[90m━━━━━━━━━━━━━━━━━━━━━━━━━━━━━━━━━━━━━━━\u001b[0m \u001b[32m293.3/293.3 kB\u001b[0m \u001b[31m3.0 MB/s\u001b[0m eta \u001b[36m0:00:00\u001b[0ma \u001b[36m0:00:01\u001b[0m\n",
            "\u001b[?25hRequirement already satisfied: numpy!=1.24.0,>=1.17 in /home/juan/.local/lib/python3.11/site-packages (from seaborn) (1.25.2)\n",
            "Requirement already satisfied: pandas>=0.25 in /home/juan/.local/lib/python3.11/site-packages (from seaborn) (2.1.0)\n",
            "Requirement already satisfied: matplotlib!=3.6.1,>=3.1 in /home/juan/.local/lib/python3.11/site-packages (from seaborn) (3.7.2)\n",
            "Requirement already satisfied: contourpy>=1.0.1 in /home/juan/.local/lib/python3.11/site-packages (from matplotlib!=3.6.1,>=3.1->seaborn) (1.1.0)\n",
            "Requirement already satisfied: cycler>=0.10 in /home/juan/.local/lib/python3.11/site-packages (from matplotlib!=3.6.1,>=3.1->seaborn) (0.11.0)\n",
            "Requirement already satisfied: fonttools>=4.22.0 in /home/juan/.local/lib/python3.11/site-packages (from matplotlib!=3.6.1,>=3.1->seaborn) (4.42.1)\n",
            "Requirement already satisfied: kiwisolver>=1.0.1 in /home/juan/.local/lib/python3.11/site-packages (from matplotlib!=3.6.1,>=3.1->seaborn) (1.4.5)\n",
            "Requirement already satisfied: packaging>=20.0 in /usr/lib/python3.11/site-packages (from matplotlib!=3.6.1,>=3.1->seaborn) (23.0)\n",
            "Requirement already satisfied: pillow>=6.2.0 in /home/juan/.local/lib/python3.11/site-packages (from matplotlib!=3.6.1,>=3.1->seaborn) (10.0.0)\n",
            "Requirement already satisfied: pyparsing<3.1,>=2.3.1 in /home/juan/.local/lib/python3.11/site-packages (from matplotlib!=3.6.1,>=3.1->seaborn) (3.0.9)\n",
            "Requirement already satisfied: python-dateutil>=2.7 in /home/juan/.local/lib/python3.11/site-packages (from matplotlib!=3.6.1,>=3.1->seaborn) (2.8.2)\n",
            "Requirement already satisfied: pytz>=2020.1 in /home/juan/.local/lib/python3.11/site-packages (from pandas>=0.25->seaborn) (2023.3)\n",
            "Requirement already satisfied: tzdata>=2022.1 in /home/juan/.local/lib/python3.11/site-packages (from pandas>=0.25->seaborn) (2023.3)\n",
            "Requirement already satisfied: six>=1.5 in /home/juan/.local/lib/python3.11/site-packages (from python-dateutil>=2.7->matplotlib!=3.6.1,>=3.1->seaborn) (1.16.0)\n",
            "Installing collected packages: seaborn\n",
            "Successfully installed seaborn-0.12.2\n",
            "\n",
            "\u001b[1m[\u001b[0m\u001b[34;49mnotice\u001b[0m\u001b[1;39;49m]\u001b[0m\u001b[39;49m A new release of pip is available: \u001b[0m\u001b[31;49m23.1.2\u001b[0m\u001b[39;49m -> \u001b[0m\u001b[32;49m23.2.1\u001b[0m\n",
            "\u001b[1m[\u001b[0m\u001b[34;49mnotice\u001b[0m\u001b[1;39;49m]\u001b[0m\u001b[39;49m To update, run: \u001b[0m\u001b[32;49mpip install --upgrade pip\u001b[0m\n"
          ]
        },
        {
          "ename": "NameError",
          "evalue": "name 'finalaprov2017' is not defined",
          "output_type": "error",
          "traceback": [
            "\u001b[0;31m---------------------------------------------------------------------------\u001b[0m",
            "\u001b[0;31mNameError\u001b[0m                                 Traceback (most recent call last)",
            "Cell \u001b[0;32mIn[9], line 3\u001b[0m\n\u001b[1;32m      1\u001b[0m get_ipython()\u001b[39m.\u001b[39msystem(\u001b[39m'\u001b[39m\u001b[39mpip install seaborn\u001b[39m\u001b[39m'\u001b[39m)\n\u001b[1;32m      2\u001b[0m \u001b[39mimport\u001b[39;00m \u001b[39mseaborn\u001b[39;00m \u001b[39mas\u001b[39;00m \u001b[39msns\u001b[39;00m\n\u001b[0;32m----> 3\u001b[0m sns\u001b[39m.\u001b[39mrelplot(x\u001b[39m=\u001b[39m\u001b[39m\"\u001b[39m\u001b[39mbairro_legenda\u001b[39m\u001b[39m\"\u001b[39m,y\u001b[39m=\u001b[39m\u001b[39m\"\u001b[39m\u001b[39mvalorTotalPrevisto\u001b[39m\u001b[39m\"\u001b[39m,hue\u001b[39m=\u001b[39m\u001b[39m\"\u001b[39m\u001b[39misAprovado\u001b[39m\u001b[39m\"\u001b[39m, col\u001b[39m=\u001b[39m\u001b[39m\"\u001b[39m\u001b[39misAprovado\u001b[39m\u001b[39m\"\u001b[39m,data\u001b[39m=\u001b[39mfinalaprov2017)\n",
            "\u001b[0;31mNameError\u001b[0m: name 'finalaprov2017' is not defined"
          ]
        }
      ],
      "source": [
        "!pip install seaborn\n",
        "import seaborn as sns\n",
        "sns.relplot(x=\"bairro_legenda\",y=\"valorTotalPrevisto\",hue=\"isAprovado\", col=\"isAprovado\",data=finalaprov2017)"
      ]
    },
    {
      "cell_type": "code",
      "execution_count": null,
      "metadata": {
        "id": "eZPSJHmb3btP"
      },
      "outputs": [],
      "source": [
        "sns.relplot(x=\"bairro_legenda\",y=\"valorTotalPrevisto\",hue=\"isAprovado\", col=\"isAprovado\",data=finalaprov2018)"
      ]
    },
    {
      "attachments": {},
      "cell_type": "markdown",
      "metadata": {
        "id": "fCvu3nhlwy35"
      },
      "source": [
        "##Respondendo algumas perguntas complexas\n",
        "Levando em consideração o investimento suplementar nas escolas oriundos do PDDE. Há alguma correlação direta no perfil socioeconômico (CENSO ESCOLAR) dos alunos na distribuição desse orçamento?\n"
      ]
    },
    {
      "cell_type": "code",
      "execution_count": null,
      "metadata": {
        "id": "MNj29UCcw05y"
      },
      "outputs": [],
      "source": [
        "aluFiltrado = alu2018[['NU_IDADE_REFERENCIA','NU_IDADE','TP_SEXO','TP_COR_RACA','TP_ETAPA_ENSINO','IN_REGULAR','IN_EJA','IN_PROFISSIONALIZANTE','CO_ENTIDADE']]\n",
        "presFiltrado = prest2018[['Código da Escola','Valor Total Previsto']]\n",
        "aluFiltrado.head()"
      ]
    },
    {
      "cell_type": "code",
      "execution_count": null,
      "metadata": {
        "id": "8hajU-BzHpgM"
      },
      "outputs": [],
      "source": [
        "#fazendo o merge para resposta da pergunta 1\n",
        "tabelao_pergunta1_merge = pd.merge(prest2018, alu2018, left_on=\"Código da Escola\", right_on=\"CO_ENTIDADE\")\n",
        "tabelao_pergunta1 = tabelao_pergunta1_merge[['CO_ENTIDADE','Valor Total Previsto','NU_IDADE_REFERENCIA','NU_IDADE','TP_SEXO','TP_COR_RACA','TP_ETAPA_ENSINO','IN_REGULAR','IN_EJA','IN_PROFISSIONALIZANTE']]\n",
        "\n",
        "#renomeando o valor total previsto para VALOR_TOTAL_PREVISTO\n",
        "\n",
        "\n",
        "mapTroca = {\n",
        "    \"Valor Total Previsto\" : \"VALOR_TOTAL_PREVISTO\"\n",
        "}\n",
        "tabelao_pergunta1 = tabelao_pergunta1.rename(columns = mapTroca)\n",
        "#modificando o valor total previsto para float\n",
        "#tabelao_pergunta1['VALOR_TOTAL_PREVISTO'] = tabelao_pergunta1['VALOR_TOTAL_PREVISTO'].str.replace('.', '')\n",
        "#tabelao_pergunta1['VALOR_TOTAL_PREVISTO'] = tabelao_pergunta1['VALOR_TOTAL_PREVISTO'].str.replace(',', '.').astype(float)\n",
        "\n",
        "tabelao_pergunta1.dropna(subset = [\"TP_ETAPA_ENSINO\",\"IN_REGULAR\",\"IN_EJA\",\"IN_PROFISSIONALIZANTE\"], inplace=True)\n",
        "nulos = tabelao_pergunta1.isnull()\n",
        "nulos.sum()"
      ]
    },
    {
      "attachments": {},
      "cell_type": "markdown",
      "metadata": {
        "id": "eBlxOh67qcsg"
      },
      "source": [
        "### Plotando a relação das variaveis"
      ]
    },
    {
      "cell_type": "code",
      "execution_count": null,
      "metadata": {
        "id": "qDu6l_G_H0-O"
      },
      "outputs": [],
      "source": [
        "import matplotlib.pyplot as plt\n",
        "import seaborn as sns\n",
        "\n",
        "sns.set()\n",
        "plt.figure(figsize=(100,50))\n",
        "\n",
        "sns.pairplot(tabelao_pergunta1, y_vars='VALOR_TOTAL_PREVISTO', x_vars=['NU_IDADE_REFERENCIA','NU_IDADE','TP_SEXO','TP_COR_RACA','TP_ETAPA_ENSINO','IN_REGULAR','IN_EJA','IN_PROFISSIONALIZANTE'])\n",
        "#sns.lmplot(x='NU_IDADE_REFERENCIA', y='VALOR_TOTAL_PREVISTO', data=tabelao_pergunta1, line_kws={'color':'red'})\n",
        "#sns.lmplot(x='NU_IDADE', y='VALOR_TOTAL_PREVISTO', data=tabelao_pergunta1, line_kws={'color':'red'})\n",
        "#sns.lmplot(x='TP_SEXO', y='VALOR_TOTAL_PREVISTO', data=tabelao_pergunta1, line_kws={'color':'red'})\n",
        "#sns.lmplot(x='TP_COR_RACA', y='VALOR_TOTAL_PREVISTO', data=tabelao_pergunta1, line_kws={'color':'red'})\n",
        "#sns.lmplot(x='TP_ETAPA_ENSINO', y='VALOR_TOTAL_PREVISTO', data=tabelao_pergunta1, line_kws={'color':'red'})\n",
        "#sns.lmplot(x='IN_REGULAR', y='VALOR_TOTAL_PREVISTO', data=tabelao_pergunta1, line_kws={'color':'red'})\n",
        "plt.show()"
      ]
    },
    {
      "cell_type": "code",
      "execution_count": null,
      "metadata": {
        "id": "y9luoNbTH_YJ"
      },
      "outputs": [],
      "source": [
        "x = tabelao_pergunta1[[ 'NU_IDADE_REFERENCIA',\n",
        "                        'NU_IDADE',\n",
        "                        'TP_SEXO',\n",
        "                        'TP_COR_RACA',\n",
        "                        'TP_ETAPA_ENSINO',\n",
        "                        'IN_REGULAR',\n",
        "                        'IN_EJA',\n",
        "                        'IN_PROFISSIONALIZANTE']]\n",
        "x123 = tabelao_pergunta1[[ 'NU_IDADE_REFERENCIA',\n",
        "                        'NU_IDADE',\n",
        "                        'TP_SEXO',\n",
        "                        'TP_COR_RACA',\n",
        "                        'TP_ETAPA_ENSINO',\n",
        "                        'IN_REGULAR',\n",
        "                        'IN_EJA',\n",
        "                        'IN_PROFISSIONALIZANTE']]\n",
        "\n",
        "y = tabelao_pergunta1[['VALOR_TOTAL_PREVISTO']]\n",
        "\n",
        "nulos = x.isnull()\n",
        "nulos.sum()"
      ]
    },
    {
      "attachments": {},
      "cell_type": "markdown",
      "metadata": {
        "id": "qgtlYA0ytDAQ"
      },
      "source": [
        "# EXPERIMENTOS E ANÁLISE DOS RESULTADOS"
      ]
    },
    {
      "cell_type": "code",
      "execution_count": 7,
      "metadata": {
        "id": "J2IYrnfntRB2"
      },
      "outputs": [
        {
          "name": "stdout",
          "output_type": "stream",
          "text": [
            "Defaulting to user installation because normal site-packages is not writeable\n",
            "Collecting sklearn\n",
            "  Using cached sklearn-0.0.post7.tar.gz (3.6 kB)\n",
            "  Preparing metadata (setup.py) ... \u001b[?25lerror\n",
            "  \u001b[1;31merror\u001b[0m: \u001b[1msubprocess-exited-with-error\u001b[0m\n",
            "  \n",
            "  \u001b[31m×\u001b[0m \u001b[32mpython setup.py egg_info\u001b[0m did not run successfully.\n",
            "  \u001b[31m│\u001b[0m exit code: \u001b[1;36m1\u001b[0m\n",
            "  \u001b[31m╰─>\u001b[0m \u001b[31m[18 lines of output]\u001b[0m\n",
            "  \u001b[31m   \u001b[0m The 'sklearn' PyPI package is deprecated, use 'scikit-learn'\n",
            "  \u001b[31m   \u001b[0m rather than 'sklearn' for pip commands.\n",
            "  \u001b[31m   \u001b[0m \n",
            "  \u001b[31m   \u001b[0m Here is how to fix this error in the main use cases:\n",
            "  \u001b[31m   \u001b[0m - use 'pip install scikit-learn' rather than 'pip install sklearn'\n",
            "  \u001b[31m   \u001b[0m - replace 'sklearn' by 'scikit-learn' in your pip requirements files\n",
            "  \u001b[31m   \u001b[0m   (requirements.txt, setup.py, setup.cfg, Pipfile, etc ...)\n",
            "  \u001b[31m   \u001b[0m - if the 'sklearn' package is used by one of your dependencies,\n",
            "  \u001b[31m   \u001b[0m   it would be great if you take some time to track which package uses\n",
            "  \u001b[31m   \u001b[0m   'sklearn' instead of 'scikit-learn' and report it to their issue tracker\n",
            "  \u001b[31m   \u001b[0m - as a last resort, set the environment variable\n",
            "  \u001b[31m   \u001b[0m   SKLEARN_ALLOW_DEPRECATED_SKLEARN_PACKAGE_INSTALL=True to avoid this error\n",
            "  \u001b[31m   \u001b[0m \n",
            "  \u001b[31m   \u001b[0m More information is available at\n",
            "  \u001b[31m   \u001b[0m https://github.com/scikit-learn/sklearn-pypi-package\n",
            "  \u001b[31m   \u001b[0m \n",
            "  \u001b[31m   \u001b[0m If the previous advice does not cover your use case, feel free to report it at\n",
            "  \u001b[31m   \u001b[0m https://github.com/scikit-learn/sklearn-pypi-package/issues/new\n",
            "  \u001b[31m   \u001b[0m \u001b[31m[end of output]\u001b[0m\n",
            "  \n",
            "  \u001b[1;35mnote\u001b[0m: This error originates from a subprocess, and is likely not a problem with pip.\n",
            "\u001b[?25h\u001b[1;31merror\u001b[0m: \u001b[1mmetadata-generation-failed\u001b[0m\n",
            "\n",
            "\u001b[31m×\u001b[0m Encountered error while generating package metadata.\n",
            "\u001b[31m╰─>\u001b[0m See above for output.\n",
            "\n",
            "\u001b[1;35mnote\u001b[0m: This is an issue with the package mentioned above, not pip.\n",
            "\u001b[1;36mhint\u001b[0m: See above for details.\n",
            "\n",
            "\u001b[1m[\u001b[0m\u001b[34;49mnotice\u001b[0m\u001b[1;39;49m]\u001b[0m\u001b[39;49m A new release of pip is available: \u001b[0m\u001b[31;49m23.1.2\u001b[0m\u001b[39;49m -> \u001b[0m\u001b[32;49m23.2.1\u001b[0m\n",
            "\u001b[1m[\u001b[0m\u001b[34;49mnotice\u001b[0m\u001b[1;39;49m]\u001b[0m\u001b[39;49m To update, run: \u001b[0m\u001b[32;49mpip install --upgrade pip\u001b[0m\n"
          ]
        },
        {
          "ename": "ModuleNotFoundError",
          "evalue": "No module named 'sklearn'",
          "output_type": "error",
          "traceback": [
            "\u001b[0;31m---------------------------------------------------------------------------\u001b[0m",
            "\u001b[0;31mModuleNotFoundError\u001b[0m                       Traceback (most recent call last)",
            "Cell \u001b[0;32mIn[7], line 6\u001b[0m\n\u001b[1;32m      4\u001b[0m \u001b[39mimport\u001b[39;00m \u001b[39mnumpy\u001b[39;00m \u001b[39mas\u001b[39;00m \u001b[39mnp\u001b[39;00m\n\u001b[1;32m      5\u001b[0m \u001b[39mimport\u001b[39;00m \u001b[39mpandas\u001b[39;00m \u001b[39mas\u001b[39;00m \u001b[39mpd\u001b[39;00m\n\u001b[0;32m----> 6\u001b[0m \u001b[39mfrom\u001b[39;00m \u001b[39msklearn\u001b[39;00m\u001b[39m.\u001b[39;00m\u001b[39mmodel_selection\u001b[39;00m \u001b[39mimport\u001b[39;00m StratifiedKFold, cross_validate, train_test_split\n\u001b[1;32m      7\u001b[0m \u001b[39mfrom\u001b[39;00m \u001b[39msklearn\u001b[39;00m\u001b[39m.\u001b[39;00m\u001b[39mtree\u001b[39;00m \u001b[39mimport\u001b[39;00m DecisionTreeClassifier\n\u001b[1;32m      8\u001b[0m \u001b[39mfrom\u001b[39;00m \u001b[39msklearn\u001b[39;00m\u001b[39m.\u001b[39;00m\u001b[39mnaive_bayes\u001b[39;00m \u001b[39mimport\u001b[39;00m GaussianNB\n",
            "\u001b[0;31mModuleNotFoundError\u001b[0m: No module named 'sklearn'"
          ]
        }
      ],
      "source": [
        "import warnings\n",
        "warnings.filterwarnings('ignore')\n",
        "import numpy as np\n",
        "import pandas as pd\n",
        "from sklearn.model_selection import StratifiedKFold, cross_validate, train_test_split\n",
        "from sklearn.tree import DecisionTreeClassifier\n",
        "from sklearn.naive_bayes import GaussianNB\n",
        "from sklearn.neighbors import KNeighborsClassifier\n",
        "from sklearn.svm import LinearSVC\n",
        "from sklearn.metrics import make_scorer, accuracy_score, precision_score, recall_score, f1_score\n",
        "import time\n",
        "\n",
        "# X = finalaprov2017[['valorTotalPrevisto', 'IN_QUADRA_ESPORTES', 'IN_BIBLIOTECA_SALA_LEITURA', 'IN_REFEITORIO', 'IN_INTERNET']]\n",
        "# y = finalaprov2017['isAprovado']\n",
        "\n",
        "X = finalaprov2018[['valorTotalPrevisto', 'IN_QUADRA_ESPORTES', 'IN_BIBLIOTECA_SALA_LEITURA', 'IN_REFEITORIO', 'IN_INTERNET']]\n",
        "y = finalaprov2018['isAprovado']\n",
        "\n",
        "algorithms = [\n",
        "    ('Árvore de Decisão', DecisionTreeClassifier()),\n",
        "    ('Naïve Bayes', GaussianNB()),\n",
        "    ('K-NN (k=3)', KNeighborsClassifier(n_neighbors=3)),\n",
        "    ('K-NN (k=5)', KNeighborsClassifier(n_neighbors=5)),\n",
        "    ('K-NN (k=7)', KNeighborsClassifier(n_neighbors=7)),\n",
        "    ('LinearSVC', LinearSVC())\n",
        "]\n",
        "\n",
        "# Defina as métricas de avaliação\n",
        "scoring = {\n",
        "    'accuracy': make_scorer(accuracy_score),\n",
        "    'precision': make_scorer(precision_score),\n",
        "    # 'recall': make_scorer(recall_score),\n",
        "    # 'f1': make_scorer(f1_score)\n",
        "}\n",
        "\n",
        "num_runs = 5\n",
        "num_splits = 10\n",
        "results = []\n",
        "\n",
        "for run in range(num_runs):\n",
        "    X_train, X_test, y_train, y_test = train_test_split(X, y, test_size=0.2, random_state=run)\n",
        "\n",
        "    fold_results = []\n",
        "\n",
        "    for name, model in algorithms:\n",
        "        start_time = time.time()\n",
        "\n",
        "        skf = StratifiedKFold(n_splits=num_splits, shuffle=True, random_state=run)\n",
        "        scores = cross_validate(model, X_train, y_train, cv=skf, scoring=scoring)\n",
        "\n",
        "        mean_scores = {metric: np.mean(scores['test_' + metric]) for metric in scoring}\n",
        "        mean_scores['time'] = time.time() - start_time\n",
        "\n",
        "        fold_results.append((name, mean_scores))\n",
        "\n",
        "    results.append(fold_results)\n",
        "\n",
        "\n",
        "for i, algorithm_results in enumerate(results[0]):\n",
        "    algorithm_name = algorithm_results[0]\n",
        "    metric_summaries = {metric: np.mean([result[i][1][metric] for result in results]) for metric in scoring}\n",
        "\n",
        "    print(f'Resultados para {algorithm_name}:')\n",
        "    for metric, value in metric_summaries.items():\n",
        "        print(f'{metric}: {value:.2f}')\n",
        "\n",
        "    print('\\n')\n"
      ]
    },
    {
      "cell_type": "code",
      "execution_count": null,
      "metadata": {
        "id": "fvbjT9vgyKly"
      },
      "outputs": [],
      "source": []
    }
  ],
  "metadata": {
    "colab": {
      "collapsed_sections": [
        "fCvu3nhlwy35",
        "eBlxOh67qcsg"
      ],
      "provenance": []
    },
    "kernelspec": {
      "display_name": "Python 3",
      "name": "python3"
    },
    "language_info": {
      "codemirror_mode": {
        "name": "ipython",
        "version": 3
      },
      "file_extension": ".py",
      "mimetype": "text/x-python",
      "name": "python",
      "nbconvert_exporter": "python",
      "pygments_lexer": "ipython3",
      "version": "3.11.3"
    }
  },
  "nbformat": 4,
  "nbformat_minor": 0
}
